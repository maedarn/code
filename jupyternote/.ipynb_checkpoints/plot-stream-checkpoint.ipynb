{
 "cells": [
  {
   "cell_type": "code",
   "execution_count": 2,
   "metadata": {},
   "outputs": [],
   "source": [
    "import numpy as np\n",
    "import matplotlib.pyplot as plt\n",
    "from numpy import sin, cos, pi, sqrt"
   ]
  },
  {
   "cell_type": "code",
   "execution_count": 78,
   "metadata": {},
   "outputs": [
    {
     "data": {
      "text/plain": [
       "\"\\nY, X = np.mgrid[-5:5:100j, -2*np.pi:2*np.pi:100j]\\nU = Y\\nV = - np.sin(X)\\n\\nstrm=plt.streamplot( X, Y, U, V, color=np.sqrt(U*U+V*V), linewidth=2, cmap='jet')\\ncbar=plt.colorbar(strm.lines)\\n\\nplt.xlabel('X')\\nplt.ylabel('Y')\\ncbar.set_label('speed', rotation=270)\\n\\nplt.show()\\n\""
      ]
     },
     "execution_count": 78,
     "metadata": {},
     "output_type": "execute_result"
    }
   ],
   "source": [
    "\"\"\"\n",
    "Y, X = np.mgrid[-5:5:100j, -2*np.pi:2*np.pi:100j]\n",
    "U = Y\n",
    "V = - np.sin(X)\n",
    "\n",
    "strm=plt.streamplot( X, Y, U, V, color=np.sqrt(U*U+V*V), linewidth=2, cmap='jet')\n",
    "cbar=plt.colorbar(strm.lines)\n",
    "\n",
    "plt.xlabel('X')\n",
    "plt.ylabel('Y')\n",
    "cbar.set_label('speed', rotation=270)\n",
    "\n",
    "plt.show()\n",
    "\"\"\""
   ]
  },
  {
   "cell_type": "code",
   "execution_count": 116,
   "metadata": {
    "scrolled": true
   },
   "outputs": [],
   "source": [
    "n = 100\n",
    "xsz=2.0\n",
    "ysz=2.0\n",
    "x = np.linspace(-xsz, xsz, n)\n",
    "y = np.linspace(-ysz, ysz, n)\n",
    "X, Y = np.meshgrid(x, y)\n",
    "\n",
    "#ax = plt.axes()\n",
    "\n",
    "u=1.0\n",
    "R=1.0\n",
    "uxy = np.zeros((n, n))\n",
    "for i in range(1, n, 1):\n",
    "    for j in range(1, n, 1):\n",
    "        rcir=sqrt(x[i]**2.0+y[j]**2.0)\n",
    "        if rcir < R :\n",
    "            uxy[i][j]=0.0\n",
    "        else:\n",
    "            uxy[i][j]=u\n",
    "        if j==n:\n",
    "            break\n",
    "    if i==n:\n",
    "        break"
   ]
  },
  {
   "cell_type": "code",
   "execution_count": 139,
   "metadata": {},
   "outputs": [
    {
     "data": {
      "image/png": "[encoded data removed]",
      "text/plain": [
       "<Figure size 432x288 with 2 Axes>"
      ]
     },
     "metadata": {
      "needs_background": "light"
     },
     "output_type": "display_data"
    }
   ],
   "source": [
    "#c = patches.Circle(xy=(0, 0), radius=R, fc='g', ec='r')\n",
    "#ax.add_patch(c)\n",
    "\n",
    "vxvec = np.zeros((n, n))\n",
    "vyvec = np.zeros((n, n))\n",
    "speed = np.zeros((n, n))\n",
    "ptn = np.zeros((n, n))\n",
    "for i in range(1, n, 1):\n",
    "    for j in range(1, n, 1):\n",
    "        vxvec[i][j]=(x[i]/sqrt(x[i]**2.0+y[j]**2.0)*uxy[i][j]*x[i]/sqrt(x[i]**2.0+y[j]**2.0)*(1.0-1.5*R/sqrt(x[i]**2.0+y[j]**2.0)+0.5*R**3.0/sqrt(x[i]**2.0+y[j]**2.0)**3.0)-y[j]/sqrt(x[i]**2.0+y[j]**2.0)*(-uxy[i][j])*y[j]/sqrt(x[i]**2.0+y[j]**2.0)*(1.0-0.75*R/sqrt(x[i]**2.0+y[j]**2.0)-0.25*R**3.0/sqrt(x[i]**2.0+y[j]**2.0)**3.0))\n",
    "        vyvec[i][j]=(y[j]/sqrt(x[i]**2.0+y[j]**2.0)*uxy[i][j]*x[i]/sqrt(x[i]**2.0+y[j]**2.0)*(1.0-1.5*R/sqrt(x[i]**2.0+y[j]**2.0)+0.5*R**3.0/sqrt(x[i]**2.0+y[j]**2.0)**3.0)+x[i]/sqrt(x[i]**2.0+y[j]**2.0)*(-uxy[i][j])*y[j]/sqrt(x[i]**2.0+y[j]**2.0)*(1.0-0.75*R/sqrt(x[i]**2.0+y[j]**2.0)-0.25*R**3.0/sqrt(x[i]**2.0+y[j]**2.0)**3.0))\n",
    "        speed[i][j]=sqrt(vxvec[i][j]**2.0+vyvec[i][j]**2.0)\n",
    "        ptn[i][j]=0.5*uxy[i][j]*(sqrt(x[i]**2.0+y[j]**2.0)-R)**2.0*(1.0+0.5*R/sqrt(x[i]**2.0+y[j]**2.0))*(y[j]**2.0/(x[i]**2.0+y[j]**2.0))\n",
    "        #-0.75*R*uxy[i][j]*sqrt(x[i]**2.0+y[j]**2.0)*(1.0-1.0/3.0*(R**2.0/(x[i]**2.0+y[j]**2.0)))*(y[j]**2.0/(x[i]**2.0+y[j]**2.0))\n",
    "#x0 = np.zeros(n)\n",
    "#x0 =  [-xsz  for i in range(n)]\n",
    "#ax.set_aspect('equal')\n",
    "#seed_points = np.array([x0, y])\n",
    "#stream_points = np.array(zip(np.arange(-xsz+0.5,xsz-0.5,.5), -np.arange(-ysz+0.5,ysz-0.5,.5)))\n",
    "plt.figure(1)\n",
    "#plt.streamplot(X, Y, vxvec, vyvec, density=1, linewidth=0.2,cmap='jet',minlength=0.00001,maxlength = 1.0,integration_direction='forward')#, start_points=stream_points)#,start_points = seed_points.T)\n",
    "#plt.quiver(X[::2,::2], Y[::2,::2], vxvec[::2,::2], vyvec[::2,::2],scale=1 ,scale_units='xy',width=0.0035)\n",
    "plt.pcolormesh(X, Y, ptn,cmap='jet')\n",
    "plt.tick_params(labelsize=26)\n",
    "plt.gca().set_aspect('equal', adjustable='box')\n",
    "plt.colorbar()\n",
    "plt.contour(X, Y, ptn,1000,colors='black')\n",
    "plt.axis('equal')\n",
    "plt.xlabel('X') \n",
    "plt.ylabel('Y')\n",
    "plt.xlim(-xsz, xsz)\n",
    "plt.ylim(-ysz, ysz)\n",
    "plt.show()"
   ]
  },
  {
   "cell_type": "code",
   "execution_count": null,
   "metadata": {},
   "outputs": [],
   "source": []
  }
 ],
 "metadata": {
  "kernelspec": {
   "display_name": "Python 3",
   "language": "python",
   "name": "python3"
  },
  "language_info": {
   "codemirror_mode": {
    "name": "ipython",
    "version": 3
   },
   "file_extension": ".py",
   "mimetype": "text/x-python",
   "name": "python",
   "nbconvert_exporter": "python",
   "pygments_lexer": "ipython3",
   "version": "3.7.4"
  }
 },
 "nbformat": 4,
 "nbformat_minor": 2
}
