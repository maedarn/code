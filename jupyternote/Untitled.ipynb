{
 "cells": [
  {
   "cell_type": "code",
   "execution_count": 1,
   "metadata": {},
   "outputs": [],
   "source": [
    "# import python libraries for this notebook\n",
    "%matplotlib inline\n",
    "\n",
    "import matplotlib.pyplot as plt # Standard plotting library in python\n",
    "import numpy as np              # Fundamnetal scientific computing library for handling arrays, etc. \n",
    "import pandas as pd             # Python Data Analysis Library for easy-to-use data structures\n",
    "                                \n",
    "# Scipy is an important scientific computing library with various useful functions\n",
    "from scipy import stats         # stats module contain many statatistical funtions\n",
    "from scipy import optimize      # optimize module provides functions for minimizing (or maximizing) \n",
    "                                #     objective functions\n",
    "\n",
    "from tqdm import tnrange        # Progress bar module for interactivity"
   ]
  },
  {
   "cell_type": "code",
   "execution_count": null,
   "metadata": {},
   "outputs": [],
   "source": [
    "fig = plt.figure(figsize=(16, 12))\n",
    "f90 = open('txt.dat', 'rb')\n",
    "ary = np.fromfile(f90, np.float32,count=im*jm) #count=im*jm*dim*nstep\n",
    "print(ary)\n",
    "# %% 1.読み込んだn番目の要素を取り出し、fortran形式の4次元配列に\n",
    "uvhpy = ary.reshape(jm,im, order='F')  # 1要素あたりbyte×202*481*3=4×291486=165944byte,order='F':並び替えかた\n",
    "\n",
    "\"\"\"\n",
    "ax = fig.add_subplot(111)\n",
    "ax.scatter(df_SFG['MASS_BEST'], df_SFG['L_K'], color='royalblue', alpha=0.1, label='SFGs')\n",
    "ax.set_xlabel(r'$\\log (M_*/M_{\\odot})$')\n",
    "ax.set_ylabel(r'$\\log (L_K$ /${\\rm erg\\ s^{-1}\\ Hz^{-1}})$')\n",
    "\"\"\"\n",
    "\n",
    "x_plot=np.linspace(df_SFG['MASS_BEST'].min(), df_SFG['MASS_BEST'].max(), 1000) #1000 dx\n",
    "\n",
    "# Plotting the fit result\n",
    "ax.plot(x_plot, slope * x_plot + intercept, lw=4, color='black', label='stats.linregress', linestyle='dashed')\n",
    "\n",
    "ax.text(8, 25.5, r'$\\log{(L_K)}=%01.2f \\times \\log{(M_*/M_{\\odot})}+%01.2f$'%(slope, intercept), \n",
    "         size=30, color='black')\n",
    "\n",
    "ax.legend(loc='best')\n"
   ]
  }
 ],
 "metadata": {
  "kernelspec": {
   "display_name": "Python 3",
   "language": "python",
   "name": "python3"
  },
  "language_info": {
   "codemirror_mode": {
    "name": "ipython",
    "version": 3
   },
   "file_extension": ".py",
   "mimetype": "text/x-python",
   "name": "python",
   "nbconvert_exporter": "python",
   "pygments_lexer": "ipython3",
   "version": "3.6.4"
  }
 },
 "nbformat": 4,
 "nbformat_minor": 2
}
