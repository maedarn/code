{
 "cells": [
  {
   "cell_type": "code",
   "execution_count": 72,
   "metadata": {},
   "outputs": [],
   "source": [
    "# coding: UTF-8\n",
    "from PIL import Image\n",
    "import numpy as np\n",
    "import matplotlib.pyplot as plt\n",
    "import h5py\n",
    "import csv\n",
    "import math\n",
    "import pandas as pd\n",
    "from matplotlib.backends.backend_pdf import PdfPages\n",
    "import matplotlib.animation as animation\n",
    "from matplotlib.animation import ArtistAnimation\n",
    "\n",
    "dir = '/Users/maeda/Desktop/Dropbox/analysis/telegraph-test-1D-1/2th/mesh256/'\n",
    "dirn = '/Users/maeda/Desktop/Dropbox/analysis/telegraph-test-1D-1/exa/'\n",
    "#dirm='/Users/maeda/Desktop/Dropbox/analysis/telegraph-test-1D-1/cg1-T01-rho1-cen-128-1000st/'\n",
    "dirm='/Users/maeda/Desktop/Dropbox/analysis/telegraph-test-1D-1/prdc/'\n",
    "\n",
    "\n",
    "#data01,data02,data03,data04,data05,data06,data07,data08 = np.loadtxt(dir+'phi00002.dat', delimiter=',', unpack=True)\n",
    "#plt.plot(data01,data06,marker=\"o\",color='red', linewidth = 1)  \n",
    "#plt.show()\n",
    "\n",
    "#data = pd.read_csv(dir+'phi00100.csv')\n",
    "#lux = data['LUX'].astype('int64')\n",
    "#data = data.sort_values(by=\"LUX\", ascending=True)\n",
    "#log_data = np.log(data)\n",
    "#data"
   ]
  },
  {
   "cell_type": "code",
   "execution_count": 73,
   "metadata": {},
   "outputs": [
    {
     "data": {
      "image/png": "[encoded data removed]",
      "text/plain": [
       "<Figure size 432x288 with 1 Axes>"
      ]
     },
     "metadata": {
      "needs_background": "light"
     },
     "output_type": "display_data"
    }
   ],
   "source": [
    "#data_col = data.columns\n",
    "\n",
    "fig = plt.figure()\n",
    "ax = fig.add_subplot(1, 1, 1)\n",
    "\n",
    "# 0 <=x < 2pi の範囲の点列を作成。\n",
    "# 各コマの画像を格納する配列\n",
    "image_list = []\n",
    "\n",
    "for i in range(100):\n",
    "    # ずらしながらsinカーブを描写し、配列に格納\n",
    "    #y = np.sin(np.roll(x, -i))\n",
    "    #image = ax.plot(x, y)\n",
    "    \n",
    "    #simu\n",
    "    #data01,data02,data03,data04,data05,data06 = np.loadtxt(dir+'phi'+\"%05.f\"%(i)+'.dat', delimiter=',', unpack=True)\n",
    "    #image = plt.plot(data01,data02,marker=\"o\",color='blue', linewidth = 1)    \n",
    "    #image_list.append(image)\n",
    "    \n",
    "    #exa\n",
    "    #data01,data02,data03 = np.loadtxt(dir+'phiexa'+\"%03.f\"%(i)+'.dat', delimiter=',', unpack=True)\n",
    "    #image = plt.plot(data01,data02,marker=\"o\",color='blue', linewidth = 1)    \n",
    "    #image_list.append(image)\n",
    "    plt.ylim(-0.005, 0.005)\n",
    "    \n",
    "    #data01,data02,data03,data04,data05,data06 = np.loadtxt(dir+'phi'+\"%05.f\"%(i)+'.dat', delimiter=',', unpack=True)\n",
    "    #data01,data02,data03 = np.loadtxt(dir+'phi'+\"%05.f\"%(i)+'.dat', delimiter=',', unpack=True)\n",
    "    data01,data02,data03,data04,data05 = np.loadtxt(dir+'phi'+\"%05.f\"%(i)+'.dat', delimiter=',', unpack=True)\n",
    "    #data01,data02,data03,data04,data05,data06,data07,data08,data09 = np.loadtxt(dirm+'phi'+\"%05.f\"%(i)+'.dat', delimiter=',', unpack=True)\n",
    "    #fata01,fata02,fata03,fata04,fata05 = np.loadtxt(dirn+'phiexa'+\"%03.f\"%(i)+'.dat', delimiter=',', unpack=True)\n",
    "    #image1 = plt.plot(data01,data02,marker=\"o\",color='blue', linewidth = 1) \n",
    "    #image1 = plt.plot(data01,(data02+data03)*0.5,marker=\"o\",color='blue', linewidth = 1) \n",
    "    image2 = plt.plot(data01,data02,marker=\"o\",color='red', linewidth = 1) \n",
    "    #image3 = plt.plot(data01,data04,marker=\"o\",color='green', linewidth = 1) \n",
    "    #image2 = plt.plot(fata01,fata05*2.0,marker=\"o\",color='red', linewidth = 1)  \n",
    "    #image4 = plt.plot(fata01,fata02,marker=\"o\",color='red', linewidth = 1) \n",
    "    #image2 = plt.plot(fata01,fata02,marker=\"o\",color='red', linewidth = 1) \n",
    "    #image2 = plt.plot(fata01,fata02,marker=\"o\",color='red', linewidth = 1) \n",
    "    #image2 = plt.plot(data01,data02,marker=\"o\",color='red', linewidth = 1) \n",
    "    #image3 = plt.plot(fata01,fata05,marker=\"o\",color='green', linewidth = 1) \n",
    "    #image3 = plt.plot(data01,data04,marker=\"o\",color='green', linewidth = 1) \n",
    "    image4 = plt.plot(data01,data04,marker=\"o\",color='black', linewidth = 1) \n",
    "    #image_list.append(image1+image2+image3+image4)\n",
    "    image_list.append(image4+image2)\n",
    "    #image_list.append(image2)\n",
    "    \n",
    "    \n",
    "\n",
    "\n",
    "\n",
    "# アニメーションを作成\n",
    "ani = ArtistAnimation(fig, image_list, interval=50,repeat_delay=1000)\n",
    "# gifに保存\n",
    "#ani.save('/Users/maeda/Desktop/anim.gif', writer='pillow')\n",
    "ani.save('/Users/maeda/Desktop/anim256.mp4', writer=\"ffmpeg\")\n",
    "plt.show()\n",
    "\n"
   ]
  },
  {
   "cell_type": "code",
   "execution_count": 74,
   "metadata": {},
   "outputs": [],
   "source": [
    "dir1  = '/Users/maeda/Desktop/Dropbox/analysis/telegraph-test-1D-1/2th/mesh064/'\n",
    "dir2  = '/Users/maeda/Desktop/Dropbox/analysis/telegraph-test-1D-1/2th/mesh128/'\n",
    "dir3  = '/Users/maeda/Desktop/Dropbox/analysis/telegraph-test-1D-1/2th/mesh256/'\n",
    "dir4  = '/Users/maeda/Desktop/Dropbox/analysis/telegraph-test-1D-1/2th/mesh512/'\n",
    "\n",
    "i=100\n",
    "aata01,aata02,aata03,aata04,aata05 = np.loadtxt(dir1+'phi'+\"%05.f\"%(i)+'.dat', delimiter=',', unpack=True)\n",
    "eata01,eata02,eata03,eata04,eata05 = np.loadtxt(dir2+'phi'+\"%05.f\"%(i)+'.dat', delimiter=',', unpack=True)\n",
    "fata01,fata02,fata03,fata04,fata05 = np.loadtxt(dir3+'phi'+\"%05.f\"%(i)+'.dat', delimiter=',', unpack=True)\n",
    "gata01,gata02,gata03,gata04,gata05 = np.loadtxt(dir4+'phi'+\"%05.f\"%(i)+'.dat', delimiter=',', unpack=True)"
   ]
  },
  {
   "cell_type": "code",
   "execution_count": 78,
   "metadata": {},
   "outputs": [
    {
     "data": {
      "text/plain": [
       "array([-2.74485867,  0.68564861])"
      ]
     },
     "execution_count": 78,
     "metadata": {},
     "output_type": "execute_result"
    },
    {
     "data": {
      "image/png": "[encoded data removed]",
      "text/plain": [
       "<Figure size 432x288 with 1 Axes>"
      ]
     },
     "metadata": {
      "needs_background": "light"
     },
     "output_type": "display_data"
    }
   ],
   "source": [
    "err1=aata02-aata04\n",
    "err2=eata02-eata04\n",
    "err3=fata02 -fata04\n",
    "err4=gata02-gata04\n",
    "\n",
    "err1=np.sqrt(np.mean(err1*err1))\n",
    "err2=np.sqrt(np.mean(err2*err2))\n",
    "err3=np.sqrt(np.mean(err3*err3))\n",
    "err4=np.sqrt(np.mean(err4*err4))\n",
    "\n",
    "\n",
    "musclerr=[0] * 4\n",
    "msh=[0] * 4\n",
    "\n",
    "musclerr[0]=err1\n",
    "musclerr[1]=err2\n",
    "musclerr[2]=err3\n",
    "musclerr[3]=err4\n",
    "\n",
    "\n",
    "msh[0]=64.0\n",
    "msh[1]=128.0\n",
    "msh[2]=256.0\n",
    "msh[3]=512.0\n",
    "\n",
    "fig = plt.figure()\n",
    "ax = fig.add_subplot(111)\n",
    "\n",
    "plt.rcParams[\"font.family\"] = \"Times New Roman\"      #全体のフォントを設定\n",
    "plt.rcParams[\"xtick.direction\"] = \"in\"               #x軸の目盛線が内向き('in')か外向き('out')か双方向か('inout')\n",
    "plt.rcParams[\"ytick.direction\"] = \"in\"               #y軸の目盛線が内向き('in')か外向き('out')か双方向か('inout')\n",
    "#plt.rcParams[\"xtick.minor.visible\"] = True          #x軸補助目盛りの追加\n",
    "#plt.rcParams[\"ytick.minor.visible\"] = True          #y軸補助目盛りの追加\n",
    "#plt.rcParams[\"xtick.major.width\"] = 1.5              #x軸主目盛り線の線幅\n",
    "#plt.rcParams[\"ytick.major.width\"] = 1.5              #y軸主目盛り線の線幅\n",
    "#plt.rcParams[\"xtick.minor.width\"] = 1.0              #x軸補助目盛り線の線幅\n",
    "#plt.rcParams[\"ytick.minor.width\"] = 1.0              #y軸補助目盛り線の線幅\n",
    "plt.rcParams[\"xtick.major.size\"] = 5                #x軸主目盛り線の長さ\n",
    "plt.rcParams[\"ytick.major.size\"] = 5                #y軸主目盛り線の長さ\n",
    "#plt.rcParams[\"xtick.minor.size\"] = 5                #x軸補助目盛り線の長さ\n",
    "#plt.rcParams[\"ytick.minor.size\"] = 5                #y軸補助目盛り線の長さ\n",
    "plt.rcParams[\"font.size\"] = 20                       #フォントの大きさ\n",
    "#plt.rcParams[\"axes.linewidth\"] = 1.5                 #囲みの太さ\n",
    "\n",
    "lgmusclerr=np.log10(musclerr)\n",
    "lgmsh=np.log10(msh)\n",
    "\n",
    "plt.scatter(lgmsh, lgmusclerr, s=3.0,c='red')\n",
    "lgmsh[0]\n",
    "\n",
    "coef_20 = np.polyfit(lgmsh,lgmusclerr,1) #係数\n",
    "y_pred_20 = coef_20[0]*lgmsh+ coef_20[1] #フィッティング関数\n",
    "plt.plot(lgmsh,y_pred_20,label=\"d=1\") #1次式\n",
    "\n",
    "\n",
    "ax.set_xlabel('Cell')\n",
    "\n",
    "x = np.arange(60, 1000, 0.1)\n",
    "x=np.log10(x)\n",
    "y = -(x) * 3.0 + 0.65726\n",
    "plt.plot(x, y)\n",
    "\n",
    "\n",
    "# 保存するPDFファイル名\n",
    "pp = PdfPages('/Users/maeda/Desktop/err2.pdf')\n",
    "# 画像をPDFとして保存する\n",
    "pp.savefig(fig)\n",
    "# PDFの保存終了\n",
    "pp.close()\n",
    "#plt.savefig(\"R-Vesc.png\")\n",
    "                    \n",
    "#plt.savefig(\"R-Vesc.png\")\n",
    "\n",
    "coef_20\n",
    "\n",
    "\n"
   ]
  },
  {
   "cell_type": "code",
   "execution_count": null,
   "metadata": {},
   "outputs": [],
   "source": []
  },
  {
   "cell_type": "code",
   "execution_count": null,
   "metadata": {},
   "outputs": [],
   "source": []
  }
 ],
 "metadata": {
  "kernelspec": {
   "display_name": "Python 3",
   "language": "python",
   "name": "python3"
  },
  "language_info": {
   "codemirror_mode": {
    "name": "ipython",
    "version": 3
   },
   "file_extension": ".py",
   "mimetype": "text/x-python",
   "name": "python",
   "nbconvert_exporter": "python",
   "pygments_lexer": "ipython3",
   "version": "3.7.4"
  }
 },
 "nbformat": 4,
 "nbformat_minor": 2
}
