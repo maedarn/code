{
 "cells": [
  {
   "cell_type": "code",
   "execution_count": 1,
   "metadata": {},
   "outputs": [],
   "source": [
    "# coding: UTF-8\n",
    "from PIL import Image\n",
    "import numpy as np\n",
    "import matplotlib.pyplot as plt\n",
    "import h5py\n",
    "import csv\n",
    "import math\n",
    "import pandas as pd\n",
    "from matplotlib.backends.backend_pdf import PdfPages\n",
    "import matplotlib.animation as animation\n",
    "from matplotlib.animation import ArtistAnimation\n",
    "\n",
    "dir = '/Users/maeda/Desktop/Dropbox/analysis/telegraph-test-1D-1/simu/'\n",
    "dirn = '/Users/maeda/Desktop/Dropbox/analysis/telegraph-test-1D-1/exa/'\n",
    "\n",
    "#data01,data02,data03,data04,data05,data06 = np.loadtxt(dir+'phi00002.dat', delimiter=',', unpack=True)\n",
    "#plt.plot(data01,data03,marker=\"o\")  \n",
    "#plt.show()\n",
    "\n",
    "#data = pd.read_csv(dir+'phi00100.csv')\n",
    "#lux = data['LUX'].astype('int64')\n",
    "#data = data.sort_values(by=\"LUX\", ascending=True)\n",
    "#log_data = np.log(data)\n",
    "#data"
   ]
  },
  {
   "cell_type": "code",
   "execution_count": 32,
   "metadata": {},
   "outputs": [
    {
     "data": {
      "image/png": "[encoded data removed]",
      "text/plain": [
       "<Figure size 432x288 with 1 Axes>"
      ]
     },
     "metadata": {
      "needs_background": "light"
     },
     "output_type": "display_data"
    }
   ],
   "source": [
    "#data_col = data.columns\n",
    "\n",
    "fig = plt.figure()\n",
    "ax = fig.add_subplot(1, 1, 1)\n",
    "\n",
    "# 0 <=x < 2pi の範囲の点列を作成。\n",
    "# 各コマの画像を格納する配列\n",
    "image_list = []\n",
    "\n",
    "for i in range(200):\n",
    "    # ずらしながらsinカーブを描写し、配列に格納\n",
    "    #y = np.sin(np.roll(x, -i))\n",
    "    #image = ax.plot(x, y)\n",
    "    \n",
    "    #simu\n",
    "    #data01,data02,data03,data04,data05,data06 = np.loadtxt(dir+'phi'+\"%05.f\"%(i)+'.dat', delimiter=',', unpack=True)\n",
    "    #image = plt.plot(data01,data02,marker=\"o\",color='blue', linewidth = 1)    \n",
    "    #image_list.append(image)\n",
    "    \n",
    "    #exa\n",
    "    #data01,data02,data03 = np.loadtxt(dir+'phiexa'+\"%03.f\"%(i)+'.dat', delimiter=',', unpack=True)\n",
    "    #image = plt.plot(data01,data02,marker=\"o\",color='blue', linewidth = 1)    \n",
    "    #image_list.append(image)\n",
    "    \n",
    "    #data01,data02,data03,data04,data05,data06 = np.loadtxt(dir+'phi'+\"%05.f\"%(i)+'.dat', delimiter=',', unpack=True)\n",
    "    data01,data02,data03,data04,data05,data06,data07,data08 = np.loadtxt(dir+'phi'+\"%05.f\"%(i)+'.dat', delimiter=',', unpack=True)\n",
    "    fata01,fata02,fata03,fata04,fata05 = np.loadtxt(dirn+'phiexa'+\"%03.f\"%(i)+'.dat', delimiter=',', unpack=True)\n",
    "    #image1 = plt.plot(data01,data02,marker=\"o\",color='blue', linewidth = 1) \n",
    "    image1 = plt.plot(data01,(data02+data03)*0.5,marker=\"o\",color='blue', linewidth = 1) \n",
    "    #image2 = plt.plot(data01,data03,marker=\"o\",color='red', linewidth = 1) \n",
    "    #image3 = plt.plot(data01,data02,marker=\"o\",color='green', linewidth = 1) \n",
    "    #image2 = plt.plot(fata01,fata05*2.0,marker=\"o\",color='red', linewidth = 1)  \n",
    "    #image2 = plt.plot(fata01,fata02,marker=\"o\",color='red', linewidth = 1) \n",
    "    #image2 = plt.plot(fata01,fata02,marker=\"o\",color='red', linewidth = 1) \n",
    "    image2 = plt.plot(fata01,fata02,marker=\"o\",color='red', linewidth = 1) \n",
    "    #image3 = plt.plot(fata01,fata05,marker=\"o\",color='green', linewidth = 1) \n",
    "    #image3 = plt.plot(data01,data02,marker=\"o\",color='green', linewidth = 1) \n",
    "    #image4 = plt.plot(data01,data03,marker=\"o\",color='black', linewidth = 1) \n",
    "    #image_list.append(image1+image2+image3+image4)\n",
    "    image_list.append(image1+image2)\n",
    "    #image_list.append(image2)\n",
    "    \n",
    "    \n",
    "\n",
    "\n",
    "\n",
    "# アニメーションを作成\n",
    "ani = ArtistAnimation(fig, image_list, interval=50)\n",
    "# gifに保存\n",
    "#ani.save('/Users/maeda/Desktop/anim.gif', writer='pillow')\n",
    "ani.save('/Users/maeda/Desktop/anim.mp4', writer=\"ffmpeg\")\n",
    "plt.show()\n",
    "\n"
   ]
  },
  {
   "cell_type": "code",
   "execution_count": null,
   "metadata": {},
   "outputs": [],
   "source": []
  },
  {
   "cell_type": "code",
   "execution_count": null,
   "metadata": {},
   "outputs": [],
   "source": []
  },
  {
   "cell_type": "code",
   "execution_count": null,
   "metadata": {},
   "outputs": [],
   "source": []
  },
  {
   "cell_type": "code",
   "execution_count": null,
   "metadata": {},
   "outputs": [],
   "source": []
  }
 ],
 "metadata": {
  "kernelspec": {
   "display_name": "Python 3",
   "language": "python",
   "name": "python3"
  },
  "language_info": {
   "codemirror_mode": {
    "name": "ipython",
    "version": 3
   },
   "file_extension": ".py",
   "mimetype": "text/x-python",
   "name": "python",
   "nbconvert_exporter": "python",
   "pygments_lexer": "ipython3",
   "version": "3.7.4"
  }
 },
 "nbformat": 4,
 "nbformat_minor": 2
}
