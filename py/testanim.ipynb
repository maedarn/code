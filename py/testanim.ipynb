{
 "cells": [
  {
   "cell_type": "code",
   "execution_count": 14,
   "metadata": {},
   "outputs": [
    {
     "data": {
      "image/png": "[encoded data removed]",
      "text/plain": [
       "<Figure size 432x288 with 1 Axes>"
      ]
     },
     "metadata": {
      "needs_background": "light"
     },
     "output_type": "display_data"
    },
    {
     "data": {
      "text/plain": [
       "\"\\nimport numpy as np\\nimport matplotlib.pyplot as plt\\nfrom matplotlib.animation import ArtistAnimation\\n\\nfig = plt.figure()\\nax = fig.add_subplot(1, 1, 1)\\n\\n# 0 <=x < 2pi の範囲の点列を作成。\\nx = np.linspace(0, 2*np.pi, 101)[: -1]\\n# 各コマの画像を格納する配列\\nimage_list = []\\n\\nfor i in range(100):\\n    # ずらしながらsinカーブを描写し、配列に格納\\n    y = np.sin(np.roll(x, -i))\\n    image = ax.plot(x, y)\\n    image_list.append(image)\\n\\n# アニメーションを作成\\nani = ArtistAnimation(fig, image_list, interval=10)\\n# gifに保存\\nani.save('/Users/maeda/Desktop/sin_animation.gif', writer='pillow')\\n\""
      ]
     },
     "execution_count": 14,
     "metadata": {},
     "output_type": "execute_result"
    }
   ],
   "source": [
    "\n",
    "import numpy as np\n",
    "import matplotlib.pyplot as plt\n",
    "from matplotlib.animation import ArtistAnimation\n",
    "\n",
    "fig = plt.figure()\n",
    "ax = fig.add_subplot(1, 1, 1)\n",
    "\n",
    "# 0 <=x < 2pi の範囲の点列を作成。\n",
    "x = np.linspace(0, 2*np.pi, 101)[: -1]\n",
    "# 各コマの画像を格納する配列\n",
    "image_list = []\n",
    "\n",
    "for i in range(100):\n",
    "    # ずらしながらsinカーブを描写し、配列に格納\n",
    "    y = np.sin(np.roll(x, -i))\n",
    "    image = ax.plot(x, y)\n",
    "    image_list.append(image)\n",
    "\n",
    "# アニメーションを作成\n",
    "ani = ArtistAnimation(fig, image_list, interval=10)\n",
    "# gifに保存\n",
    "ani.save('/Users/maeda/Desktop/sin_animation.gif', writer='pillow')\n"
   ]
  },
  {
   "cell_type": "code",
   "execution_count": null,
   "metadata": {},
   "outputs": [],
   "source": [
    "import numpy as np\n",
    "import matplotlib.pyplot as plt\n",
    "import matplotlib.animation as animation\n",
    "\n",
    "fig = plt.figure()\n",
    "x = np.arange(0, 10, 0.1)\n",
    "\n",
    "ims = []\n",
    "for a in range(50):\n",
    "    y = np.sin(x - a)\n",
    "    line, = plt.plot(x, y, \"r\")\n",
    "    ims.append([line])\n",
    "\n",
    "ani = animation.ArtistAnimation(fig, ims)\n",
    "ani.save('/Users/maeda/Desktop/anim.gif', writer=\"imagemagick\")\n",
    "ani.save('/Users/maeda/Desktop/anim.mp4', writer=\"ffmpeg\")\n",
    "plt.show()"
   ]
  },
  {
   "cell_type": "code",
   "execution_count": null,
   "metadata": {},
   "outputs": [],
   "source": []
  }
 ],
 "metadata": {
  "kernelspec": {
   "display_name": "Python 3",
   "language": "python",
   "name": "python3"
  },
  "language_info": {
   "codemirror_mode": {
    "name": "ipython",
    "version": 3
   },
   "file_extension": ".py",
   "mimetype": "text/x-python",
   "name": "python",
   "nbconvert_exporter": "python",
   "pygments_lexer": "ipython3",
   "version": "3.7.4"
  }
 },
 "nbformat": 4,
 "nbformat_minor": 2
}
