{
 "cells": [
  {
   "cell_type": "code",
   "execution_count": 302,
   "metadata": {},
   "outputs": [],
   "source": [
    "# coding: UTF-8\n",
    "from PIL import Image\n",
    "import numpy as np\n",
    "import matplotlib.pyplot as plt\n",
    "import h5py\n",
    "import csv\n",
    "import math\n",
    "import pandas as pd\n",
    "from matplotlib.backends.backend_pdf import PdfPages\n",
    "import matplotlib.animation as animation\n",
    "from matplotlib.animation import ArtistAnimation\n",
    "\n",
    "nx=64+4\n",
    "ny=64+4\n",
    "nd=19\n",
    "nloop=100+1\n",
    "step=1"
   ]
  },
  {
   "cell_type": "code",
   "execution_count": 303,
   "metadata": {},
   "outputs": [
    {
     "name": "stdout",
     "output_type": "stream",
     "text": [
      "(19, 4624)\n"
     ]
    },
    {
     "data": {
      "text/plain": [
       "\"\\nddata = np.loadtxt(dir54+'phi2D00099.DAT', delimiter=',', unpack=True ,dtype='float') \\nrddata = np.reshape(ddata[a, :], (nd, ny ,nx))\\ndmax=np.max(rddata[6,:,:])\\ndmin=np.min(rddata[6,:,:])\\n\\nedata = np.loadtxt(dir55+'phi2D00099.DAT', delimiter=',', unpack=True ,dtype='float') \\nredata = np.reshape(edata[a, :], (nd, ny ,nx))\\nemax=np.max(redata[6,:,:])\\nemin=np.min(redata[6,:,:])\\n\""
      ]
     },
     "execution_count": 303,
     "metadata": {},
     "output_type": "execute_result"
    }
   ],
   "source": [
    "#dir53 = '/Users/maeda/Desktop/Dropbox/analysis/telegraph-test-2D-1/cg1-T10-rho1-cen-128-1000st/'\n",
    "dir53 = '/Users/maeda/Desktop/Dropbox/analysis/telegraph-test-2D-1/cg1-T10-rho1-cen-64-1000st/'\n",
    "#dir54 = '/Users/maeda/Desktop/Dropbox/analysis/telegraph-test-2D-1/cg1-T20-rho1-cen-128-1000st/'\n",
    "#dir55 = '/Users/maeda/Desktop/Dropbox/analysis/telegraph-test-2D-1/cg1-T40-rho1-cen-128-1000st/'\n",
    "\n",
    "#dir56 = '/Users/maeda/Desktop/Dropbox/analysis/telegraph-test-2D-1/cg1-T30-rho1-cen-128-1000st/'\n",
    "\n",
    "data = np.loadtxt(dir53+'phi2D00021.DAT', delimiter=',', unpack=True ,dtype='float')\n",
    "a = np.arange(nd)\n",
    "#a\n",
    "print(data.shape)\n",
    "rdata = np.reshape(data[a, :], (nd, ny ,nx))\n",
    "rdata[0,:,:]\n",
    "nmax=np.max(rdata[6,:,:])\n",
    "nmin=np.min(rdata[6,:,:])\n",
    "\n",
    "\n",
    "#rdata.transpose(0,2, 1)\n",
    "'''\n",
    "ddata = np.loadtxt(dir54+'phi2D00099.DAT', delimiter=',', unpack=True ,dtype='float') \n",
    "rddata = np.reshape(ddata[a, :], (nd, ny ,nx))\n",
    "dmax=np.max(rddata[6,:,:])\n",
    "dmin=np.min(rddata[6,:,:])\n",
    "\n",
    "edata = np.loadtxt(dir55+'phi2D00099.DAT', delimiter=',', unpack=True ,dtype='float') \n",
    "redata = np.reshape(edata[a, :], (nd, ny ,nx))\n",
    "emax=np.max(redata[6,:,:])\n",
    "emin=np.min(redata[6,:,:])\n",
    "'''\n",
    "\n",
    "#fdata = np.loadtxt(dir56+'phi2D00099.DAT', delimiter=',', unpack=True ,dtype='float') \n",
    "#rfdata = np.reshape(fdata[a, :], (nd, ny ,nx))\n",
    "#fmax=np.max(rfdata[6,:,:])\n",
    "#fmin=np.min(rfdata[6,:,:])\n",
    "\n",
    "#err=rdata[6,:,:]-rdata[12,:,:]\n",
    "#err=(rdata[6,:,:]-rddata[6,:,:])#/(nmax-nmin)\n",
    "#rms = np.sqrt(np.mean(err*err))\n",
    "\n",
    "#drr=(rdata[6,:,:]-redata[6,:,:])#/(nmax-nmin)\n",
    "#dms = np.sqrt(np.mean(drr*drr))\n",
    "\n",
    "#frr=(rdata[6,:,:]-rfdata[6,:,:])#/(nmax-nmin)\n",
    "#fms = np.sqrt(np.mean(frr*frr))\n",
    "\n",
    "#rms,dms,fms,nmin,nmax"
   ]
  },
  {
   "cell_type": "code",
   "execution_count": 304,
   "metadata": {
    "scrolled": true
   },
   "outputs": [
    {
     "data": {
      "image/png": "[encoded data removed]",
      "text/plain": [
       "<Figure size 432x288 with 2 Axes>"
      ]
     },
     "metadata": {
      "needs_background": "light"
     },
     "output_type": "display_data"
    }
   ],
   "source": [
    "plt.pcolormesh(rdata[0,:,:], rdata[1,:,:], rdata[7,:,:]-rdata[12,:,:], cmap='jet') # 等高線図の生成。cmapで色付けの規則を指定する。\n",
    "#plt.pcolormesh(rddata[0,:,:], rddata[1,:,:], rddata[6,:,:], cmap='jet') # 等高線図の生成。cmapで色付けの規則を指定する。\n",
    "#plt.pcolormesh(redata[0,:,:], redata[1,:,:], redata[6,:,:], cmap='jet') # 等高線図の生成。cmapで色付けの規則を指定する。\n",
    "#plt.pcolor(X, Y, Z, cmap='hsv') # 等高線図の生成。cmapで色付けの規則を指定する。\n",
    "\n",
    "plt.clim(-0.0505, 0.0510)\n",
    "pp=plt.colorbar (orientation=\"vertical\") # カラーバーの表示 \"vertical\"\n",
    "pp.set_label(\"Label\", fontname=\"Arial\", fontsize=24) #カラーバーのラベル\n",
    "\n",
    "plt.xlim([-5.0, 105.0]) # x方向の描画範囲を指定\n",
    "plt.ylim([-5.0, 105.0]) # y方向の描画範囲を指定\n",
    "plt.xlabel('X', fontsize=24)\n",
    "plt.ylabel('Y', fontsize=24)\n",
    "#fig = plt.figure(figsize=(5, 5))\n",
    "#ax.set_aspect('equal', adjustable='box')\n",
    "#quadmesh.set_clim(vmin=0, vmax=15)\n",
    "#plt.axes().set_aspect('equal', 'datalim')\n",
    "plt.gca().set_aspect('equal')\n",
    "\n",
    "\n",
    "plt.show()"
   ]
  },
  {
   "cell_type": "code",
   "execution_count": 305,
   "metadata": {},
   "outputs": [],
   "source": [
    "a = np.arange(nd)\n",
    "dmy = [0]*nx*ny\n",
    "dmy = np.reshape(dmy, (ny ,nx))\n",
    "\n",
    "for i in range(nloop):\n",
    "    data = np.loadtxt(dir53+'phi2D'+\"%05.f\"%(i)+'.dat', delimiter=',', unpack=True ,dtype='float') \n",
    "    rdata = np.reshape(data[a, :], (nd, ny ,nx))\n",
    "    \n",
    "    #ddata = np.loadtxt(dir54+'phi2D'+\"%05.f\"%(i)+'.dat', delimiter=',', unpack=True ,dtype='float') \n",
    "    #rddata = np.reshape(ddata[a, :], (nd, ny ,nx))\n",
    "    \n",
    "    fig = plt.figure()\n",
    "    fig.subplots_adjust(bottom=0.2)\n",
    "    #fig.subplots_adjust(left=0.1)\n",
    "    #fig.subplots_adjust(right=0)\n",
    "    #plt.pcolormesh(rdata[0,:,:], rdata[1,:,:], rdata[6,:,:], cmap='jet') # 等高線図の生成。cmapで色付けの規則を指定する。 hsv\n",
    "    #plt.pcolormesh(rdata[0,:,:], rdata[1,:,:], rdata[6,:,:]-rddata[6,:,:], cmap='jet') # 等高線図の生成。cmapで色付けの規則を指定する。 hsv\n",
    "    #plt.pcolormesh(rdata[0,:,:], rdata[1,:,:], rdata[6,:,:]-dmy, cmap='jet') # 等高線図の生成。cmapで色付けの規則を指定する。 hsv\n",
    "    plt.pcolormesh(rdata[0,:,:], rdata[1,:,:], rdata[6,:,:]-rdata[12,:,:], cmap='jet') # 等高線図の生成。cmapで色付けの規則を指定する。 hsv\n",
    "    dmy=rdata[6,:,:]\n",
    "    #plt.pcolor(X, Y, Z, cmap='hsv') # 等高線図の生成。cmapで色付けの規則を指定する。\n",
    "    \n",
    "    plt.rcParams[\"font.family\"] = \"Times New Roman\"      #全体のフォントを設定\n",
    "    plt.rcParams[\"mathtext.fontset\"] = \"cm\"\n",
    "    plt.rcParams['mathtext.default'] = 'it'\n",
    "    plt.rcParams[\"xtick.direction\"] = \"in\"               #x軸の目盛線が内向き('in')か外向き('out')か双方向か('inout')\n",
    "    plt.rcParams[\"ytick.direction\"] = \"in\"               #y軸の目盛線が内向き('in')か外向き('out')か双方向か('inout')\n",
    "    #plt.rcParams[\"xtick.minor.visible\"] = True          #x軸補助目盛りの追加\n",
    "    #plt.rcParams[\"ytick.minor.visible\"] = True          #y軸補助目盛りの追加\n",
    "    #plt.rcParams[\"xtick.major.width\"] = 1.5              #x軸主目盛り線の線幅\n",
    "    #plt.rcParams[\"ytick.major.width\"] = 1.5              #y軸主目盛り線の線幅\n",
    "    #plt.rcParams[\"xtick.minor.width\"] = 1.0              #x軸補助目盛り線の線幅\n",
    "    #plt.rcParams[\"ytick.minor.width\"] = 1.0              #y軸補助目盛り線の線幅\n",
    "    plt.rcParams[\"xtick.major.size\"] = 5                #x軸主目盛り線の長さ\n",
    "    plt.rcParams[\"ytick.major.size\"] = 5                #y軸主目盛り線の長さ\n",
    "    #plt.rcParams[\"xtick.minor.size\"] = 5                #x軸補助目盛り線の長さ\n",
    "    #plt.rcParams[\"ytick.minor.size\"] = 5                #y軸補助目盛り線の長さ\n",
    "    plt.rcParams[\"font.size\"] = 20                       #フォントの大きさ\n",
    "    #plt.rcParams[\"axes.linewidth\"] = 1.5                 #囲みの太さ\n",
    "    plt.xlim([-5.0, 105.0]) # x方向の描画範囲を指定\n",
    "    plt.ylim([-5.0, 105.0]) # y方向の描画範囲を指定\n",
    "    plt.rcParams[\"legend.markerscale\"] = 2\n",
    "    plt.rcParams[\"legend.fancybox\"] = False\n",
    "    plt.rcParams[\"legend.framealpha\"] = 1\n",
    "    plt.rcParams[\"legend.edgecolor\"] = 'black'\n",
    "    \n",
    "    #plt.clim(-0.1, 0.1)\n",
    "    plt.clim(-0.005, 0.05)\n",
    "    pp=plt.colorbar (orientation=\"vertical\") # カラーバーの表示 \n",
    "    pp.set_label(\"Phi\", fontsize=24) #カラーバーのラベル\n",
    "\n",
    "    plt.xlabel('X', fontsize=20)\n",
    "    plt.ylabel('Y', fontsize=20)\n",
    "    #fig = plt.figure(figsize=(5, 5))\n",
    "    #ax.set_aspect('equal', adjustable='box')\n",
    "    #plt.axes().set_aspect('equal', 'datalim')\n",
    "    plt.gca().set_aspect('equal')\n",
    "\n",
    "    #plt.show()\n",
    "    #pp = PdfPages(dir53+'phi2D'+\"%05.f\"%(i)+'.pdf')\n",
    "    # 画像をPDFとして保存する\n",
    "    #pp.savefig(fig)\n",
    "    #fig.savefig(dir53+'sa/phi-equi'+\"%05.f\"%(i)+'.png')\n",
    "    fig.savefig(dir53+'phi-equi'+\"%05.f\"%(i)+'.png')\n",
    "    #pp.close()\n",
    "    plt.close()"
   ]
  },
  {
   "cell_type": "code",
   "execution_count": 306,
   "metadata": {},
   "outputs": [
    {
     "name": "stdout",
     "output_type": "stream",
     "text": [
      "0.03472504833789447\n"
     ]
    },
    {
     "data": {
      "image/png": "[encoded data removed]",
      "text/plain": [
       "<Figure size 432x288 with 1 Axes>"
      ]
     },
     "metadata": {
      "needs_background": "light"
     },
     "output_type": "display_data"
    }
   ],
   "source": [
    "rms = [0] * nloop\n",
    "drms = [0] * nloop\n",
    "erms = [0] * nloop\n",
    "b = np.arange(nloop)\n",
    "b=b*step\n",
    "\n",
    "dir55 = '/Users/maeda/Desktop/Dropbox/analysis/telegraph-test-2D-1/cg1-T10-rho1-cen-32-1000st/'\n",
    "dir56 = '/Users/maeda/Desktop/Dropbox/analysis/telegraph-test-2D-1/cg1-T50-rho1-cen-64-1000st/'\n",
    "\n",
    "for i in range(nloop):\n",
    "    data = np.loadtxt(dir53+'phi2D'+\"%05.f\"%(i)+'.dat', delimiter=',', unpack=True ,dtype='float') \n",
    "    rdata = np.reshape(data[a, :], (nd, ny ,nx))\n",
    "    \n",
    "    #data = np.loadtxt(dir54+'phi2D'+\"%05.f\"%(i)+'.dat', delimiter=',', unpack=True ,dtype='float') \n",
    "    #rdata = np.reshape(data[a, :], (nd, ny ,nx))\n",
    "    \n",
    "    #ddata = np.loadtxt(dir55+'phi2D'+\"%05.f\"%(i)+'.dat', delimiter=',', unpack=True ,dtype='float') \n",
    "    #rddata = np.reshape(ddata[a, :], (nd, ny ,nx))\n",
    "    \n",
    "    edata = np.loadtxt(dir56+'phi2D'+\"%05.f\"%(i)+'.dat', delimiter=',', unpack=True ,dtype='float') \n",
    "    redata = np.reshape(edata[a, :], (nd, ny ,nx))\n",
    "    \n",
    "    err=rdata[7,:,:]-rdata[12,:,:]\n",
    "    #derr=rddata[8,:,:]-rddata[12,:,:]\n",
    "    #derr=rdata[8,:,:]-rdata[12,:,:]\n",
    "    derr=redata[7,:,:]-redata[12,:,:]\n",
    "    eerr=redata[9,:,:]-redata[12,:,:]\n",
    "    #err[nx-2,:]=0.0\n",
    "    #err[:,ny-2]=0.0\n",
    "    rms[i] = np.sqrt(np.mean(err*err)/3)\n",
    "    drms[i] = np.sqrt(np.mean(derr*derr)/3)\n",
    "    erms[i] = np.sqrt(np.mean(eerr*eerr)/3)\n",
    "\n",
    "\n",
    "errtest=rdata[7,nx-2,ny-2]-rdata[12,nx-3,ny-3]\n",
    "print(errtest)\n",
    "\n",
    "fig = plt.figure()\n",
    "#fig.subplots_adjust(bottom=0.21)\n",
    "#fig.subplots_adjust(left=0.1)\n",
    "#fig.subplots_adjust(right=0)\n",
    "ax = fig.add_subplot(111)\n",
    "\n",
    "plt.rcParams[\"font.family\"] = \"Times New Roman\"      #全体のフォントを設定\n",
    "plt.rcParams[\"mathtext.fontset\"] = \"cm\"\n",
    "plt.rcParams['mathtext.default'] = 'it'\n",
    "plt.rcParams[\"xtick.direction\"] = \"in\"               #x軸の目盛線が内向き('in')か外向き('out')か双方向か('inout')\n",
    "plt.rcParams[\"ytick.direction\"] = \"in\"               #y軸の目盛線が内向き('in')か外向き('out')か双方向か('inout')\n",
    "plt.rcParams[\"xtick.major.size\"] = 5                #x軸主目盛り線の長さ\n",
    "plt.rcParams[\"ytick.major.size\"] = 5                #y軸主目盛り線の長さ\n",
    "plt.rcParams[\"font.size\"] = 20                       #フォントの大きさ\n",
    "plt.xlim([0.0, nloop*step]) # x方向の描画範囲を指定\n",
    "plt.ylim([0.001, 1.0]) # y方向の描画範囲を指定\n",
    "plt.rcParams[\"legend.markerscale\"] = 2\n",
    "plt.rcParams[\"legend.fancybox\"] = False\n",
    "plt.rcParams[\"legend.framealpha\"] = 1\n",
    "plt.rcParams[\"legend.edgecolor\"] = 'black'\n",
    "\n",
    "\n",
    "plt.yscale('log')\n",
    "plt.plot(b,rms, color='red' , linestyle = \"solid\", markersize=2.5, linewidth = 1,label=\"err-T20\")\n",
    "plt.plot(b,drms, color='blue' , linestyle = \"solid\", markersize=2.5, linewidth = 1,label=\"err-T10\")\n",
    "plt.plot(b,erms, color='green' , linestyle = \"solid\", markersize=2.5, linewidth = 1,label=\"err-T50\")\n",
    "\n",
    "ax.set_xlabel('step')\n",
    "ax.set_ylabel('err')\n",
    "\n",
    "plt.legend(bbox_to_anchor=(1, 1), loc='upper right', borderaxespad=0, fontsize=9,frameon=False)\n",
    "\n",
    "fig.tight_layout()\n",
    "#グラフ表示\n",
    "plt.show()\n",
    "#plt.figure(figsize=(5, 6))\n",
    "\n",
    "# 保存するPDFファイル名\n",
    "pp = PdfPages(dir53+'test1.pdf')\n",
    "pp = PdfPages('/Users/maeda/Desktop/test1.pdf')\n",
    "# 画像をPDFとして保存する\n",
    "pp.savefig(fig)\n",
    "# PDFの保存終了\n",
    "pp.close()\n",
    "#plt.savefig(\"R-Vesc.png\")"
   ]
  },
  {
   "cell_type": "code",
   "execution_count": null,
   "metadata": {},
   "outputs": [],
   "source": []
  },
  {
   "cell_type": "code",
   "execution_count": null,
   "metadata": {},
   "outputs": [],
   "source": []
  }
 ],
 "metadata": {
  "kernelspec": {
   "display_name": "Python 3",
   "language": "python",
   "name": "python3"
  },
  "language_info": {
   "codemirror_mode": {
    "name": "ipython",
    "version": 3
   },
   "file_extension": ".py",
   "mimetype": "text/x-python",
   "name": "python",
   "nbconvert_exporter": "python",
   "pygments_lexer": "ipython3",
   "version": "3.7.4"
  }
 },
 "nbformat": 4,
 "nbformat_minor": 2
}
