{
 "cells": [
  {
   "cell_type": "code",
   "execution_count": 120,
   "metadata": {},
   "outputs": [],
   "source": [
    "# coding: UTF-8\n",
    "from PIL import Image\n",
    "import numpy as np\n",
    "import matplotlib.pyplot as plt\n",
    "import h5py\n",
    "import csv\n",
    "import math\n",
    "import pandas as pd\n",
    "from matplotlib.backends.backend_pdf import PdfPages\n",
    "import matplotlib.animation as animation\n",
    "from matplotlib.animation import ArtistAnimation\n",
    "\n",
    "dir = '/Users/maeda/Desktop/'"
   ]
  },
  {
   "cell_type": "code",
   "execution_count": 205,
   "metadata": {},
   "outputs": [
    {
     "data": {
      "image/png": "[encoded data removed]",
      "text/plain": [
       "<Figure size 432x288 with 1 Axes>"
      ]
     },
     "metadata": {
      "needs_background": "light"
     },
     "output_type": "display_data"
    }
   ],
   "source": [
    "fig = plt.figure()\n",
    "ax = fig.add_subplot(1, 1, 1)\n",
    "\n",
    "plt.xlim(0.1, 100)\n",
    "#plt.ylim(0.001, 0.1)\n",
    "plt.ylim(0.000000, 1.0)\n",
    "#ax.set_yscale('log')\n",
    "ax.set_xscale('log')\n",
    "\n",
    "data01,data02 ,data03 = np.loadtxt(dir+'IMF.dat', delimiter=',', unpack=True)\n",
    "#plt.scatter(10.0**data01, 10.0**data03/20000.0, s=3.0,c='red')\n",
    "plt.scatter(data01, data02, s=3.0,c='red')\n",
    "\n",
    "#plt.gca().set_aspect('equal')\n",
    "\n",
    "\n",
    "plt.show()\n",
    "\n",
    "pp = PdfPages('/Users/maeda/Desktop/IMF-cum.pdf')\n",
    "pp.savefig(fig)\n",
    "pp.close()"
   ]
  },
  {
   "cell_type": "code",
   "execution_count": 180,
   "metadata": {},
   "outputs": [
    {
     "data": {
      "image/png": "[encoded data removed]",
      "text/plain": [
       "<Figure size 432x288 with 1 Axes>"
      ]
     },
     "metadata": {
      "needs_background": "light"
     },
     "output_type": "display_data"
    }
   ],
   "source": [
    "fig = plt.figure()\n",
    "ax = fig.add_subplot(1, 1, 1)\n",
    "\n",
    "p1 = np.logspace( -1, 1, 100)   # linspace(min, max, N) で範囲 min から max を N 分割します\n",
    "#q1 = 0.158*np.exp(-(np.log10(p1/0.079))**2.0 / 2.0/0.69/0.69) /p1/np.log(10.0)#* (1.0**(-2.3)/np.log(10.0)) / (np.exp(-(np.log10(1.0/0.079))**2.0 / 2.0/0.69/0.69) /1.0/np.log(10.0))\n",
    "#q1 = 0.158*np.exp(-(np.log10(p1/0.079))**2.0 / 2.0/0.69/0.69)# /np.log(1.0)\n",
    "q1 = 0.158*np.exp(-0.5*(np.log10(p1/0.079) /0.69)**2.0)\n",
    "p2 = np.logspace( 1, 3, 100)   # linspace(min, max, N) で範囲 min から max を N 分割します\n",
    "#q2=p2**(-2.3)/np.log(10.0) \n",
    "q2=0.0443*(p2)**(-1.3)\n",
    "\n",
    "plt.plot(p1, q1)\n",
    "plt.plot(p2, q2)\n",
    "\n",
    "ax.set_yscale('log')\n",
    "ax.set_xscale('log')\n",
    "plt.show()"
   ]
  },
  {
   "cell_type": "code",
   "execution_count": 169,
   "metadata": {},
   "outputs": [
    {
     "data": {
      "text/plain": [
       "(0.01915057560284106, 1.0)"
      ]
     },
     "execution_count": 169,
     "metadata": {},
     "output_type": "execute_result"
    }
   ],
   "source": [
    "a=0.158*np.exp(-0.5*((np.log10(1.0/0.079) )/ 0.69 )**2.0) /1.0/np.log(10.0)\n",
    "b=(1.0)**(-2.3)\n",
    "\n",
    "a,b"
   ]
  },
  {
   "cell_type": "code",
   "execution_count": null,
   "metadata": {},
   "outputs": [],
   "source": []
  }
 ],
 "metadata": {
  "kernelspec": {
   "display_name": "Python 3",
   "language": "python",
   "name": "python3"
  },
  "language_info": {
   "codemirror_mode": {
    "name": "ipython",
    "version": 3
   },
   "file_extension": ".py",
   "mimetype": "text/x-python",
   "name": "python",
   "nbconvert_exporter": "python",
   "pygments_lexer": "ipython3",
   "version": "3.7.4"
  }
 },
 "nbformat": 4,
 "nbformat_minor": 2
}
