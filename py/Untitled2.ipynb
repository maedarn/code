{
 "cells": [
  {
   "cell_type": "code",
   "execution_count": 24,
   "metadata": {},
   "outputs": [],
   "source": [
    "# coding: UTF-8\n",
    "from PIL import Image\n",
    "import numpy as np\n",
    "import matplotlib.pyplot as plt\n",
    "import h5py\n",
    "import csv\n",
    "import math\n",
    "import pandas as pd\n",
    "from matplotlib.backends.backend_pdf import PdfPages\n",
    "import matplotlib.animation as animation\n",
    "from matplotlib.animation import ArtistAnimation\n",
    "\n",
    "dir1 = '/Users/maeda/Desktop/Dropbox/analysis/telegraph-test-2D-1/cg1-T10-rho1-cen-128/'\n",
    "dir2 = '/Users/maeda/Desktop/Dropbox/analysis/telegraph-test-2D-1/cg1-T100-rho1-cen-128/'\n",
    "dir3 = '/Users/maeda/Desktop/Dropbox/analysis/telegraph-test-2D-1/cg1-T1-rho1-cen-128/'\n",
    "\n",
    "data01,data02,data03,data04 = np.loadtxt(dir1+'err-phi.dat', delimiter=',', unpack=True)\n",
    "eata01,eata02,eata03,eata04 = np.loadtxt(dir2+'err-phi.dat', delimiter=',', unpack=True)\n",
    "fata01,fata02,fata03,fata04 = np.loadtxt(dir3+'err-phi.dat', delimiter=',', unpack=True)"
   ]
  },
  {
   "cell_type": "code",
   "execution_count": 25,
   "metadata": {
    "scrolled": false
   },
   "outputs": [
    {
     "data": {
      "image/png": "[encoded data removed]",
      "text/plain": [
       "<Figure size 432x288 with 1 Axes>"
      ]
     },
     "metadata": {
      "needs_background": "light"
     },
     "output_type": "display_data"
    }
   ],
   "source": [
    "fig = plt.figure()\n",
    "#fig.subplots_adjust(bottom=0.21)\n",
    "#fig.subplots_adjust(left=0.1)\n",
    "#fig.subplots_adjust(right=0)\n",
    "ax = fig.add_subplot(111)\n",
    "\n",
    "plt.rcParams[\"font.family\"] = \"Times New Roman\"      #全体のフォントを設定\n",
    "plt.rcParams[\"mathtext.fontset\"] = \"cm\"\n",
    "plt.rcParams['mathtext.default'] = 'it'\n",
    "plt.rcParams[\"xtick.direction\"] = \"in\"               #x軸の目盛線が内向き('in')か外向き('out')か双方向か('inout')\n",
    "plt.rcParams[\"ytick.direction\"] = \"in\"               #y軸の目盛線が内向き('in')か外向き('out')か双方向か('inout')\n",
    "#plt.rcParams[\"xtick.minor.visible\"] = True          #x軸補助目盛りの追加\n",
    "#plt.rcParams[\"ytick.minor.visible\"] = True          #y軸補助目盛りの追加\n",
    "#plt.rcParams[\"xtick.major.width\"] = 1.5              #x軸主目盛り線の線幅\n",
    "#plt.rcParams[\"ytick.major.width\"] = 1.5              #y軸主目盛り線の線幅\n",
    "#plt.rcParams[\"xtick.minor.width\"] = 1.0              #x軸補助目盛り線の線幅\n",
    "#plt.rcParams[\"ytick.minor.width\"] = 1.0              #y軸補助目盛り線の線幅\n",
    "plt.rcParams[\"xtick.major.size\"] = 5                #x軸主目盛り線の長さ\n",
    "plt.rcParams[\"ytick.major.size\"] = 5                #y軸主目盛り線の長さ\n",
    "#plt.rcParams[\"xtick.minor.size\"] = 5                #x軸補助目盛り線の長さ\n",
    "#plt.rcParams[\"ytick.minor.size\"] = 5                #y軸補助目盛り線の長さ\n",
    "plt.rcParams[\"font.size\"] = 20                       #フォントの大きさ\n",
    "#plt.rcParams[\"axes.linewidth\"] = 1.5                 #囲みの太さ\n",
    "plt.xlim([0.0, 2000.0]) # x方向の描画範囲を指定\n",
    "plt.ylim([0.0001, 10.0]) # y方向の描画範囲を指定\n",
    "plt.rcParams[\"legend.markerscale\"] = 2\n",
    "plt.rcParams[\"legend.fancybox\"] = False\n",
    "plt.rcParams[\"legend.framealpha\"] = 1\n",
    "plt.rcParams[\"legend.edgecolor\"] = 'black'\n",
    "\n",
    "#plt.figure(1)\n",
    "'''\n",
    "plt.plot(data[data_col[0]],data[data_col[6]],marker=\"o\")\n",
    "plt.plot(data[data_col[0]],data[data_col[7]],marker=\"o\")\n",
    "plt.plot(data[data_col[0]],data[data_col[8]]*100,marker=\"o\")\n",
    "plt.plot(data[data_col[0]],data[data_col[9]],marker=\"o\")\n",
    "'''\n",
    "plt.yscale('log')\n",
    "plt.plot(data01,data02, color='red' , linestyle = \"solid\", markersize=2.5, linewidth = 1,label=\"T10\")\n",
    "plt.plot(eata01,eata02, color='blue' , linestyle = \"solid\", markersize=2.5, linewidth = 1,label=\"T100\")\n",
    "plt.plot(fata01,fata02, color='green' , linestyle = \"solid\", markersize=2.5, linewidth = 1,label=\"T1\")\n",
    "\n",
    "#グラフの軸\n",
    "#plt.xlabel(data[data_col[0]].name)\n",
    "#plt.ylabel(data[data_col[1]].name)\n",
    "#plt.ylabel(data[data_col[7]].name)\n",
    "#ax.set_title('Scatter plot')\n",
    "ax.set_xlabel('step')\n",
    "ax.set_ylabel('err')\n",
    "\n",
    "#plt.legend(bbox_to_anchor=(1.05, 1), loc='upper left', borderaxespad=0, fontsize=5,frameon=False)\n",
    "plt.legend(bbox_to_anchor=(1, 1), loc='upper right', borderaxespad=0, fontsize=9,frameon=False)\n",
    "\n",
    "#plt.xticks(np.arange(0, 60 + 1, 10))\n",
    "#plt.yticks(np.arange(0, 20 + 1, 5))\n",
    "#p = plt.plot([0.0, 60.0],[10.0, 10.0], \"black\", linestyle='dashed') # normal way\n",
    "#p = plt.plot([0.0, 60.0],[7.6, 7.6], \"red\", linestyle='dashed') # normal way\n",
    "#p = plt.plot([0.0, 60.0],[12.7, 12.7], \"blue\", linestyle='dashed') # normal way\n",
    "fig.tight_layout()\n",
    "#グラフ表示\n",
    "plt.show()\n",
    "#plt.figure(figsize=(5, 6))\n",
    "\n",
    "# 保存するPDFファイル名\n",
    "pp = PdfPages(dir+'test.pdf')\n",
    "# 画像をPDFとして保存する\n",
    "pp.savefig(fig)\n",
    "# PDFの保存終了\n",
    "pp.close()\n",
    "#plt.savefig(\"R-Vesc.png\")"
   ]
  },
  {
   "cell_type": "code",
   "execution_count": null,
   "metadata": {},
   "outputs": [],
   "source": []
  },
  {
   "cell_type": "code",
   "execution_count": null,
   "metadata": {},
   "outputs": [],
   "source": []
  }
 ],
 "metadata": {
  "kernelspec": {
   "display_name": "Python 3",
   "language": "python",
   "name": "python3"
  },
  "language_info": {
   "codemirror_mode": {
    "name": "ipython",
    "version": 3
   },
   "file_extension": ".py",
   "mimetype": "text/x-python",
   "name": "python",
   "nbconvert_exporter": "python",
   "pygments_lexer": "ipython3",
   "version": "3.7.4"
  }
 },
 "nbformat": 4,
 "nbformat_minor": 2
}
